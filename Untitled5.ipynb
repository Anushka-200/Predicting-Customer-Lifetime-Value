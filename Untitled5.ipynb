{
 "cells": [
  {
   "cell_type": "code",
   "execution_count": 1,
   "id": "52801331",
   "metadata": {},
   "outputs": [
    {
     "ename": "ModuleNotFoundError",
     "evalue": "No module named 'sklearn.preprocessor'",
     "output_type": "error",
     "traceback": [
      "\u001b[1;31m---------------------------------------------------------------------------\u001b[0m",
      "\u001b[1;31mModuleNotFoundError\u001b[0m                       Traceback (most recent call last)",
      "\u001b[1;32mC:\\Users\\BN86C3~1.KUL\\AppData\\Local\\Temp/ipykernel_15804/3072178530.py\u001b[0m in \u001b[0;36m<module>\u001b[1;34m\u001b[0m\n\u001b[0;32m      4\u001b[0m \u001b[1;32mimport\u001b[0m \u001b[0mseaborn\u001b[0m \u001b[1;32mas\u001b[0m \u001b[0msns\u001b[0m\u001b[1;33m\u001b[0m\u001b[1;33m\u001b[0m\u001b[0m\n\u001b[0;32m      5\u001b[0m \u001b[1;32mfrom\u001b[0m \u001b[0msklearn\u001b[0m\u001b[1;33m.\u001b[0m\u001b[0mmodel_selection\u001b[0m \u001b[1;32mimport\u001b[0m \u001b[0mtrain_test_split\u001b[0m\u001b[1;33m\u001b[0m\u001b[1;33m\u001b[0m\u001b[0m\n\u001b[1;32m----> 6\u001b[1;33m \u001b[1;32mfrom\u001b[0m \u001b[0msklearn\u001b[0m\u001b[1;33m.\u001b[0m\u001b[0mpreprocessor\u001b[0m \u001b[1;32mimport\u001b[0m \u001b[0mMinMaxScaler\u001b[0m\u001b[1;33m\u001b[0m\u001b[1;33m\u001b[0m\u001b[0m\n\u001b[0m\u001b[0;32m      7\u001b[0m \u001b[1;32mfrom\u001b[0m \u001b[0msklearn\u001b[0m \u001b[1;32mimport\u001b[0m \u001b[0mlinear_model\u001b[0m\u001b[1;33m\u001b[0m\u001b[1;33m\u001b[0m\u001b[0m\n\u001b[0;32m      8\u001b[0m \u001b[1;32mfrom\u001b[0m \u001b[0msklearn\u001b[0m \u001b[1;32mimport\u001b[0m \u001b[0mmetrics\u001b[0m\u001b[1;33m\u001b[0m\u001b[1;33m\u001b[0m\u001b[0m\n",
      "\u001b[1;31mModuleNotFoundError\u001b[0m: No module named 'sklearn.preprocessor'"
     ]
    }
   ],
   "source": [
    "import numpy as np\n",
    "import pandas as pd\n",
    "import matplotlib.pyplot as plt\n",
    "import seaborn as sns\n",
    "from sklearn.model_selection import train_test_split\n",
    "from sklearn.preprocessor import MinMaxScaler\n",
    "from sklearn import linear_model\n",
    "from sklearn import metrics\n",
    "from sklearn.neighbors import KNeighborsRegressor\n",
    "from sklearn.preprocessing import PolynomialFeatures\n",
    "from sklearn.metrics import cross_val_score\n",
    "from sklearn.metrics import mean_squared_error,mean_absolute_error,explained_variance_score\n",
    "from sklearn.metrics import classification_report"
   ]
  },
  {
   "cell_type": "code",
   "execution_count": 22,
   "id": "390450d1",
   "metadata": {},
   "outputs": [],
   "source": [
    "df=pd.read_csv(r\"C:\\Users\\B.N.KULKARNI\\Downloads\\Insurance_Marketing-Customer-Value-Analysis (1).csv\")"
   ]
  },
  {
   "cell_type": "code",
   "execution_count": 23,
   "id": "a509cc9c",
   "metadata": {},
   "outputs": [
    {
     "data": {
      "text/html": [
       "<div>\n",
       "<style scoped>\n",
       "    .dataframe tbody tr th:only-of-type {\n",
       "        vertical-align: middle;\n",
       "    }\n",
       "\n",
       "    .dataframe tbody tr th {\n",
       "        vertical-align: top;\n",
       "    }\n",
       "\n",
       "    .dataframe thead th {\n",
       "        text-align: right;\n",
       "    }\n",
       "</style>\n",
       "<table border=\"1\" class=\"dataframe\">\n",
       "  <thead>\n",
       "    <tr style=\"text-align: right;\">\n",
       "      <th></th>\n",
       "      <th>Customer</th>\n",
       "      <th>State</th>\n",
       "      <th>Customer Lifetime Value</th>\n",
       "      <th>Response</th>\n",
       "      <th>Coverage</th>\n",
       "      <th>Education</th>\n",
       "      <th>Effective To Date</th>\n",
       "      <th>EmploymentStatus</th>\n",
       "      <th>Gender</th>\n",
       "      <th>Income</th>\n",
       "      <th>...</th>\n",
       "      <th>Months Since Policy Inception</th>\n",
       "      <th>Number of Open Complaints</th>\n",
       "      <th>Number of Policies</th>\n",
       "      <th>Policy Type</th>\n",
       "      <th>Policy</th>\n",
       "      <th>Renew Offer Type</th>\n",
       "      <th>Sales Channel</th>\n",
       "      <th>Total Claim Amount</th>\n",
       "      <th>Vehicle Class</th>\n",
       "      <th>Vehicle Size</th>\n",
       "    </tr>\n",
       "  </thead>\n",
       "  <tbody>\n",
       "    <tr>\n",
       "      <th>0</th>\n",
       "      <td>BU79786</td>\n",
       "      <td>Washington</td>\n",
       "      <td>2763.519279</td>\n",
       "      <td>No</td>\n",
       "      <td>Basic</td>\n",
       "      <td>Bachelor</td>\n",
       "      <td>2/24/2011</td>\n",
       "      <td>Employed</td>\n",
       "      <td>F</td>\n",
       "      <td>56274</td>\n",
       "      <td>...</td>\n",
       "      <td>5</td>\n",
       "      <td>0</td>\n",
       "      <td>1</td>\n",
       "      <td>Corporate Auto</td>\n",
       "      <td>Corporate L3</td>\n",
       "      <td>Offer1</td>\n",
       "      <td>Agent</td>\n",
       "      <td>384.811147</td>\n",
       "      <td>Two-Door Car</td>\n",
       "      <td>Medsize</td>\n",
       "    </tr>\n",
       "    <tr>\n",
       "      <th>1</th>\n",
       "      <td>QZ44356</td>\n",
       "      <td>Arizona</td>\n",
       "      <td>6979.535903</td>\n",
       "      <td>No</td>\n",
       "      <td>Extended</td>\n",
       "      <td>Bachelor</td>\n",
       "      <td>1/31/2011</td>\n",
       "      <td>Unemployed</td>\n",
       "      <td>F</td>\n",
       "      <td>0</td>\n",
       "      <td>...</td>\n",
       "      <td>42</td>\n",
       "      <td>0</td>\n",
       "      <td>8</td>\n",
       "      <td>Personal Auto</td>\n",
       "      <td>Personal L3</td>\n",
       "      <td>Offer3</td>\n",
       "      <td>Agent</td>\n",
       "      <td>1131.464935</td>\n",
       "      <td>Four-Door Car</td>\n",
       "      <td>Medsize</td>\n",
       "    </tr>\n",
       "    <tr>\n",
       "      <th>2</th>\n",
       "      <td>AI49188</td>\n",
       "      <td>Nevada</td>\n",
       "      <td>12887.431650</td>\n",
       "      <td>No</td>\n",
       "      <td>Premium</td>\n",
       "      <td>Bachelor</td>\n",
       "      <td>2/19/2011</td>\n",
       "      <td>Employed</td>\n",
       "      <td>F</td>\n",
       "      <td>48767</td>\n",
       "      <td>...</td>\n",
       "      <td>38</td>\n",
       "      <td>0</td>\n",
       "      <td>2</td>\n",
       "      <td>Personal Auto</td>\n",
       "      <td>Personal L3</td>\n",
       "      <td>Offer1</td>\n",
       "      <td>Agent</td>\n",
       "      <td>566.472247</td>\n",
       "      <td>Two-Door Car</td>\n",
       "      <td>Medsize</td>\n",
       "    </tr>\n",
       "    <tr>\n",
       "      <th>3</th>\n",
       "      <td>WW63253</td>\n",
       "      <td>California</td>\n",
       "      <td>7645.861827</td>\n",
       "      <td>No</td>\n",
       "      <td>Basic</td>\n",
       "      <td>Bachelor</td>\n",
       "      <td>1/20/2011</td>\n",
       "      <td>Unemployed</td>\n",
       "      <td>M</td>\n",
       "      <td>0</td>\n",
       "      <td>...</td>\n",
       "      <td>65</td>\n",
       "      <td>0</td>\n",
       "      <td>7</td>\n",
       "      <td>Corporate Auto</td>\n",
       "      <td>Corporate L2</td>\n",
       "      <td>Offer1</td>\n",
       "      <td>Call Center</td>\n",
       "      <td>529.881344</td>\n",
       "      <td>SUV</td>\n",
       "      <td>Medsize</td>\n",
       "    </tr>\n",
       "    <tr>\n",
       "      <th>4</th>\n",
       "      <td>HB64268</td>\n",
       "      <td>Washington</td>\n",
       "      <td>2813.692575</td>\n",
       "      <td>No</td>\n",
       "      <td>Basic</td>\n",
       "      <td>Bachelor</td>\n",
       "      <td>2/3/2011</td>\n",
       "      <td>Employed</td>\n",
       "      <td>M</td>\n",
       "      <td>43836</td>\n",
       "      <td>...</td>\n",
       "      <td>44</td>\n",
       "      <td>0</td>\n",
       "      <td>1</td>\n",
       "      <td>Personal Auto</td>\n",
       "      <td>Personal L1</td>\n",
       "      <td>Offer1</td>\n",
       "      <td>Agent</td>\n",
       "      <td>138.130879</td>\n",
       "      <td>Four-Door Car</td>\n",
       "      <td>Medsize</td>\n",
       "    </tr>\n",
       "  </tbody>\n",
       "</table>\n",
       "<p>5 rows × 24 columns</p>\n",
       "</div>"
      ],
      "text/plain": [
       "  Customer       State  Customer Lifetime Value Response  Coverage Education  \\\n",
       "0  BU79786  Washington              2763.519279       No     Basic  Bachelor   \n",
       "1  QZ44356     Arizona              6979.535903       No  Extended  Bachelor   \n",
       "2  AI49188      Nevada             12887.431650       No   Premium  Bachelor   \n",
       "3  WW63253  California              7645.861827       No     Basic  Bachelor   \n",
       "4  HB64268  Washington              2813.692575       No     Basic  Bachelor   \n",
       "\n",
       "  Effective To Date EmploymentStatus Gender  Income  ...  \\\n",
       "0         2/24/2011         Employed      F   56274  ...   \n",
       "1         1/31/2011       Unemployed      F       0  ...   \n",
       "2         2/19/2011         Employed      F   48767  ...   \n",
       "3         1/20/2011       Unemployed      M       0  ...   \n",
       "4          2/3/2011         Employed      M   43836  ...   \n",
       "\n",
       "  Months Since Policy Inception Number of Open Complaints  Number of Policies  \\\n",
       "0                             5                         0                   1   \n",
       "1                            42                         0                   8   \n",
       "2                            38                         0                   2   \n",
       "3                            65                         0                   7   \n",
       "4                            44                         0                   1   \n",
       "\n",
       "      Policy Type        Policy  Renew Offer Type  Sales Channel  \\\n",
       "0  Corporate Auto  Corporate L3            Offer1          Agent   \n",
       "1   Personal Auto   Personal L3            Offer3          Agent   \n",
       "2   Personal Auto   Personal L3            Offer1          Agent   \n",
       "3  Corporate Auto  Corporate L2            Offer1    Call Center   \n",
       "4   Personal Auto   Personal L1            Offer1          Agent   \n",
       "\n",
       "  Total Claim Amount  Vehicle Class Vehicle Size  \n",
       "0         384.811147   Two-Door Car      Medsize  \n",
       "1        1131.464935  Four-Door Car      Medsize  \n",
       "2         566.472247   Two-Door Car      Medsize  \n",
       "3         529.881344            SUV      Medsize  \n",
       "4         138.130879  Four-Door Car      Medsize  \n",
       "\n",
       "[5 rows x 24 columns]"
      ]
     },
     "execution_count": 23,
     "metadata": {},
     "output_type": "execute_result"
    }
   ],
   "source": [
    "df.head()"
   ]
  },
  {
   "cell_type": "code",
   "execution_count": 24,
   "id": "044fb0ea",
   "metadata": {},
   "outputs": [
    {
     "data": {
      "text/html": [
       "<div>\n",
       "<style scoped>\n",
       "    .dataframe tbody tr th:only-of-type {\n",
       "        vertical-align: middle;\n",
       "    }\n",
       "\n",
       "    .dataframe tbody tr th {\n",
       "        vertical-align: top;\n",
       "    }\n",
       "\n",
       "    .dataframe thead th {\n",
       "        text-align: right;\n",
       "    }\n",
       "</style>\n",
       "<table border=\"1\" class=\"dataframe\">\n",
       "  <thead>\n",
       "    <tr style=\"text-align: right;\">\n",
       "      <th></th>\n",
       "      <th>Customer</th>\n",
       "      <th>State</th>\n",
       "      <th>Customer Lifetime Value</th>\n",
       "      <th>Response</th>\n",
       "      <th>Coverage</th>\n",
       "      <th>Education</th>\n",
       "      <th>Effective To Date</th>\n",
       "      <th>EmploymentStatus</th>\n",
       "      <th>Gender</th>\n",
       "      <th>Income</th>\n",
       "      <th>...</th>\n",
       "      <th>Months Since Policy Inception</th>\n",
       "      <th>Number of Open Complaints</th>\n",
       "      <th>Number of Policies</th>\n",
       "      <th>Policy Type</th>\n",
       "      <th>Policy</th>\n",
       "      <th>Renew Offer Type</th>\n",
       "      <th>Sales Channel</th>\n",
       "      <th>Total Claim Amount</th>\n",
       "      <th>Vehicle Class</th>\n",
       "      <th>Vehicle Size</th>\n",
       "    </tr>\n",
       "  </thead>\n",
       "  <tbody>\n",
       "    <tr>\n",
       "      <th>9129</th>\n",
       "      <td>LA72316</td>\n",
       "      <td>California</td>\n",
       "      <td>23405.987980</td>\n",
       "      <td>No</td>\n",
       "      <td>Basic</td>\n",
       "      <td>Bachelor</td>\n",
       "      <td>2/10/2011</td>\n",
       "      <td>Employed</td>\n",
       "      <td>M</td>\n",
       "      <td>71941</td>\n",
       "      <td>...</td>\n",
       "      <td>89</td>\n",
       "      <td>0</td>\n",
       "      <td>2</td>\n",
       "      <td>Personal Auto</td>\n",
       "      <td>Personal L1</td>\n",
       "      <td>Offer2</td>\n",
       "      <td>Web</td>\n",
       "      <td>198.234764</td>\n",
       "      <td>Four-Door Car</td>\n",
       "      <td>Medsize</td>\n",
       "    </tr>\n",
       "    <tr>\n",
       "      <th>9130</th>\n",
       "      <td>PK87824</td>\n",
       "      <td>California</td>\n",
       "      <td>3096.511217</td>\n",
       "      <td>Yes</td>\n",
       "      <td>Extended</td>\n",
       "      <td>College</td>\n",
       "      <td>2/12/2011</td>\n",
       "      <td>Employed</td>\n",
       "      <td>F</td>\n",
       "      <td>21604</td>\n",
       "      <td>...</td>\n",
       "      <td>28</td>\n",
       "      <td>0</td>\n",
       "      <td>1</td>\n",
       "      <td>Corporate Auto</td>\n",
       "      <td>Corporate L3</td>\n",
       "      <td>Offer1</td>\n",
       "      <td>Branch</td>\n",
       "      <td>379.200000</td>\n",
       "      <td>Four-Door Car</td>\n",
       "      <td>Medsize</td>\n",
       "    </tr>\n",
       "    <tr>\n",
       "      <th>9131</th>\n",
       "      <td>TD14365</td>\n",
       "      <td>California</td>\n",
       "      <td>8163.890428</td>\n",
       "      <td>No</td>\n",
       "      <td>Extended</td>\n",
       "      <td>Bachelor</td>\n",
       "      <td>2/6/2011</td>\n",
       "      <td>Unemployed</td>\n",
       "      <td>M</td>\n",
       "      <td>0</td>\n",
       "      <td>...</td>\n",
       "      <td>37</td>\n",
       "      <td>3</td>\n",
       "      <td>2</td>\n",
       "      <td>Corporate Auto</td>\n",
       "      <td>Corporate L2</td>\n",
       "      <td>Offer1</td>\n",
       "      <td>Branch</td>\n",
       "      <td>790.784983</td>\n",
       "      <td>Four-Door Car</td>\n",
       "      <td>Medsize</td>\n",
       "    </tr>\n",
       "    <tr>\n",
       "      <th>9132</th>\n",
       "      <td>UP19263</td>\n",
       "      <td>California</td>\n",
       "      <td>7524.442436</td>\n",
       "      <td>No</td>\n",
       "      <td>Extended</td>\n",
       "      <td>College</td>\n",
       "      <td>2/3/2011</td>\n",
       "      <td>Employed</td>\n",
       "      <td>M</td>\n",
       "      <td>21941</td>\n",
       "      <td>...</td>\n",
       "      <td>3</td>\n",
       "      <td>0</td>\n",
       "      <td>3</td>\n",
       "      <td>Personal Auto</td>\n",
       "      <td>Personal L2</td>\n",
       "      <td>Offer3</td>\n",
       "      <td>Branch</td>\n",
       "      <td>691.200000</td>\n",
       "      <td>Four-Door Car</td>\n",
       "      <td>Large</td>\n",
       "    </tr>\n",
       "    <tr>\n",
       "      <th>9133</th>\n",
       "      <td>Y167826</td>\n",
       "      <td>California</td>\n",
       "      <td>2611.836866</td>\n",
       "      <td>No</td>\n",
       "      <td>Extended</td>\n",
       "      <td>College</td>\n",
       "      <td>2/14/2011</td>\n",
       "      <td>Unemployed</td>\n",
       "      <td>M</td>\n",
       "      <td>0</td>\n",
       "      <td>...</td>\n",
       "      <td>90</td>\n",
       "      <td>0</td>\n",
       "      <td>1</td>\n",
       "      <td>Corporate Auto</td>\n",
       "      <td>Corporate L3</td>\n",
       "      <td>Offer4</td>\n",
       "      <td>Call Center</td>\n",
       "      <td>369.600000</td>\n",
       "      <td>Two-Door Car</td>\n",
       "      <td>Medsize</td>\n",
       "    </tr>\n",
       "  </tbody>\n",
       "</table>\n",
       "<p>5 rows × 24 columns</p>\n",
       "</div>"
      ],
      "text/plain": [
       "     Customer       State  Customer Lifetime Value Response  Coverage  \\\n",
       "9129  LA72316  California             23405.987980       No     Basic   \n",
       "9130  PK87824  California              3096.511217      Yes  Extended   \n",
       "9131  TD14365  California              8163.890428       No  Extended   \n",
       "9132  UP19263  California              7524.442436       No  Extended   \n",
       "9133  Y167826  California              2611.836866       No  Extended   \n",
       "\n",
       "     Education Effective To Date EmploymentStatus Gender  Income  ...  \\\n",
       "9129  Bachelor         2/10/2011         Employed      M   71941  ...   \n",
       "9130   College         2/12/2011         Employed      F   21604  ...   \n",
       "9131  Bachelor          2/6/2011       Unemployed      M       0  ...   \n",
       "9132   College          2/3/2011         Employed      M   21941  ...   \n",
       "9133   College         2/14/2011       Unemployed      M       0  ...   \n",
       "\n",
       "     Months Since Policy Inception Number of Open Complaints  \\\n",
       "9129                            89                         0   \n",
       "9130                            28                         0   \n",
       "9131                            37                         3   \n",
       "9132                             3                         0   \n",
       "9133                            90                         0   \n",
       "\n",
       "      Number of Policies     Policy Type        Policy  Renew Offer Type  \\\n",
       "9129                   2   Personal Auto   Personal L1            Offer2   \n",
       "9130                   1  Corporate Auto  Corporate L3            Offer1   \n",
       "9131                   2  Corporate Auto  Corporate L2            Offer1   \n",
       "9132                   3   Personal Auto   Personal L2            Offer3   \n",
       "9133                   1  Corporate Auto  Corporate L3            Offer4   \n",
       "\n",
       "      Sales Channel Total Claim Amount  Vehicle Class Vehicle Size  \n",
       "9129            Web         198.234764  Four-Door Car      Medsize  \n",
       "9130         Branch         379.200000  Four-Door Car      Medsize  \n",
       "9131         Branch         790.784983  Four-Door Car      Medsize  \n",
       "9132         Branch         691.200000  Four-Door Car        Large  \n",
       "9133    Call Center         369.600000   Two-Door Car      Medsize  \n",
       "\n",
       "[5 rows x 24 columns]"
      ]
     },
     "execution_count": 24,
     "metadata": {},
     "output_type": "execute_result"
    }
   ],
   "source": [
    "df.tail()"
   ]
  },
  {
   "cell_type": "code",
   "execution_count": 25,
   "id": "e980052f",
   "metadata": {},
   "outputs": [
    {
     "data": {
      "text/plain": [
       "Index(['Customer', 'State', 'Customer Lifetime Value', 'Response', 'Coverage',\n",
       "       'Education', 'Effective To Date', 'EmploymentStatus', 'Gender',\n",
       "       'Income', 'Location Code', 'Marital Status', 'Monthly Premium Auto',\n",
       "       'Months Since Last Claim', 'Months Since Policy Inception',\n",
       "       'Number of Open Complaints', 'Number of Policies', 'Policy Type',\n",
       "       'Policy', 'Renew Offer Type', 'Sales Channel', 'Total Claim Amount',\n",
       "       'Vehicle Class', 'Vehicle Size'],\n",
       "      dtype='object')"
      ]
     },
     "execution_count": 25,
     "metadata": {},
     "output_type": "execute_result"
    }
   ],
   "source": [
    "df.columns"
   ]
  },
  {
   "cell_type": "code",
   "execution_count": 15,
   "id": "1e3c927b",
   "metadata": {},
   "outputs": [],
   "source": [
    "#df.columns=df.columns.astype(str)"
   ]
  },
  {
   "cell_type": "code",
   "execution_count": 16,
   "id": "b9a21180",
   "metadata": {},
   "outputs": [],
   "source": [
    "#df.columns=[x.lower() for x in df.columns]"
   ]
  },
  {
   "cell_type": "code",
   "execution_count": 17,
   "id": "e1a8a85b",
   "metadata": {},
   "outputs": [],
   "source": [
    "#df.columns=df.columns.str.replace(' ','_')"
   ]
  },
  {
   "cell_type": "code",
   "execution_count": 26,
   "id": "2d64eeb7",
   "metadata": {},
   "outputs": [
    {
     "data": {
      "text/plain": [
       "Index(['Customer', 'State', 'Customer Lifetime Value', 'Response', 'Coverage',\n",
       "       'Education', 'Effective To Date', 'EmploymentStatus', 'Gender',\n",
       "       'Income', 'Location Code', 'Marital Status', 'Monthly Premium Auto',\n",
       "       'Months Since Last Claim', 'Months Since Policy Inception',\n",
       "       'Number of Open Complaints', 'Number of Policies', 'Policy Type',\n",
       "       'Policy', 'Renew Offer Type', 'Sales Channel', 'Total Claim Amount',\n",
       "       'Vehicle Class', 'Vehicle Size'],\n",
       "      dtype='object')"
      ]
     },
     "execution_count": 26,
     "metadata": {},
     "output_type": "execute_result"
    }
   ],
   "source": [
    "df.columns"
   ]
  },
  {
   "cell_type": "code",
   "execution_count": 28,
   "id": "4e0c286a",
   "metadata": {},
   "outputs": [
    {
     "data": {
      "text/plain": [
       "(9134, 24)"
      ]
     },
     "execution_count": 28,
     "metadata": {},
     "output_type": "execute_result"
    }
   ],
   "source": [
    "df.shape"
   ]
  },
  {
   "cell_type": "code",
   "execution_count": 29,
   "id": "831e0051",
   "metadata": {},
   "outputs": [
    {
     "name": "stdout",
     "output_type": "stream",
     "text": [
      "<class 'pandas.core.frame.DataFrame'>\n",
      "RangeIndex: 9134 entries, 0 to 9133\n",
      "Data columns (total 24 columns):\n",
      " #   Column                         Non-Null Count  Dtype  \n",
      "---  ------                         --------------  -----  \n",
      " 0   Customer                       9134 non-null   object \n",
      " 1   State                          9134 non-null   object \n",
      " 2   Customer Lifetime Value        9134 non-null   float64\n",
      " 3   Response                       9134 non-null   object \n",
      " 4   Coverage                       9134 non-null   object \n",
      " 5   Education                      9134 non-null   object \n",
      " 6   Effective To Date              9134 non-null   object \n",
      " 7   EmploymentStatus               9134 non-null   object \n",
      " 8   Gender                         9134 non-null   object \n",
      " 9   Income                         9134 non-null   int64  \n",
      " 10  Location Code                  9134 non-null   object \n",
      " 11  Marital Status                 9134 non-null   object \n",
      " 12  Monthly Premium Auto           9134 non-null   int64  \n",
      " 13  Months Since Last Claim        9134 non-null   int64  \n",
      " 14  Months Since Policy Inception  9134 non-null   int64  \n",
      " 15  Number of Open Complaints      9134 non-null   int64  \n",
      " 16  Number of Policies             9134 non-null   int64  \n",
      " 17  Policy Type                    9134 non-null   object \n",
      " 18  Policy                         9134 non-null   object \n",
      " 19  Renew Offer Type               9134 non-null   object \n",
      " 20  Sales Channel                  9134 non-null   object \n",
      " 21  Total Claim Amount             9134 non-null   float64\n",
      " 22  Vehicle Class                  9134 non-null   object \n",
      " 23  Vehicle Size                   9134 non-null   object \n",
      "dtypes: float64(2), int64(6), object(16)\n",
      "memory usage: 1.7+ MB\n"
     ]
    }
   ],
   "source": [
    "df.info()"
   ]
  },
  {
   "cell_type": "code",
   "execution_count": 30,
   "id": "8b08b663",
   "metadata": {},
   "outputs": [],
   "source": [
    "df['Effective To Date']=pd.to_datetime(df['Effective To Date'])"
   ]
  },
  {
   "cell_type": "code",
   "execution_count": 31,
   "id": "e73ca216",
   "metadata": {},
   "outputs": [
    {
     "name": "stdout",
     "output_type": "stream",
     "text": [
      "<class 'pandas.core.frame.DataFrame'>\n",
      "RangeIndex: 9134 entries, 0 to 9133\n",
      "Data columns (total 24 columns):\n",
      " #   Column                         Non-Null Count  Dtype         \n",
      "---  ------                         --------------  -----         \n",
      " 0   Customer                       9134 non-null   object        \n",
      " 1   State                          9134 non-null   object        \n",
      " 2   Customer Lifetime Value        9134 non-null   float64       \n",
      " 3   Response                       9134 non-null   object        \n",
      " 4   Coverage                       9134 non-null   object        \n",
      " 5   Education                      9134 non-null   object        \n",
      " 6   Effective To Date              9134 non-null   datetime64[ns]\n",
      " 7   EmploymentStatus               9134 non-null   object        \n",
      " 8   Gender                         9134 non-null   object        \n",
      " 9   Income                         9134 non-null   int64         \n",
      " 10  Location Code                  9134 non-null   object        \n",
      " 11  Marital Status                 9134 non-null   object        \n",
      " 12  Monthly Premium Auto           9134 non-null   int64         \n",
      " 13  Months Since Last Claim        9134 non-null   int64         \n",
      " 14  Months Since Policy Inception  9134 non-null   int64         \n",
      " 15  Number of Open Complaints      9134 non-null   int64         \n",
      " 16  Number of Policies             9134 non-null   int64         \n",
      " 17  Policy Type                    9134 non-null   object        \n",
      " 18  Policy                         9134 non-null   object        \n",
      " 19  Renew Offer Type               9134 non-null   object        \n",
      " 20  Sales Channel                  9134 non-null   object        \n",
      " 21  Total Claim Amount             9134 non-null   float64       \n",
      " 22  Vehicle Class                  9134 non-null   object        \n",
      " 23  Vehicle Size                   9134 non-null   object        \n",
      "dtypes: datetime64[ns](1), float64(2), int64(6), object(15)\n",
      "memory usage: 1.7+ MB\n"
     ]
    }
   ],
   "source": [
    "df.info()"
   ]
  },
  {
   "cell_type": "code",
   "execution_count": 32,
   "id": "f83a05d4",
   "metadata": {},
   "outputs": [
    {
     "data": {
      "text/plain": [
       "False    9134\n",
       "dtype: int64"
      ]
     },
     "execution_count": 32,
     "metadata": {},
     "output_type": "execute_result"
    }
   ],
   "source": [
    "df.duplicated().value_counts()"
   ]
  },
  {
   "cell_type": "code",
   "execution_count": 33,
   "id": "3d3b6967",
   "metadata": {},
   "outputs": [],
   "source": [
    "#df.drop_duplicates(inplace=True)"
   ]
  },
  {
   "cell_type": "code",
   "execution_count": 34,
   "id": "f5684603",
   "metadata": {},
   "outputs": [],
   "source": [
    "#df.dropna(axis=0,how='any',inplace=True)"
   ]
  },
  {
   "cell_type": "code",
   "execution_count": 35,
   "id": "1b8e8810",
   "metadata": {},
   "outputs": [],
   "source": [
    "#df.fillna(0,inplace=True)"
   ]
  },
  {
   "cell_type": "code",
   "execution_count": 37,
   "id": "cbbc3ccf",
   "metadata": {},
   "outputs": [
    {
     "data": {
      "text/plain": [
       "9134"
      ]
     },
     "execution_count": 37,
     "metadata": {},
     "output_type": "execute_result"
    }
   ],
   "source": [
    "df['Customer'].nunique()"
   ]
  },
  {
   "cell_type": "code",
   "execution_count": 38,
   "id": "95b14113",
   "metadata": {},
   "outputs": [
    {
     "data": {
      "text/plain": [
       "9134"
      ]
     },
     "execution_count": 38,
     "metadata": {},
     "output_type": "execute_result"
    }
   ],
   "source": [
    "df['Customer'].value_counts().sum()"
   ]
  },
  {
   "cell_type": "code",
   "execution_count": 39,
   "id": "0e05083f",
   "metadata": {},
   "outputs": [
    {
     "data": {
      "text/plain": [
       "California    3150\n",
       "Oregon        2601\n",
       "Arizona       1703\n",
       "Nevada         882\n",
       "Washington     798\n",
       "Name: State, dtype: int64"
      ]
     },
     "execution_count": 39,
     "metadata": {},
     "output_type": "execute_result"
    }
   ],
   "source": [
    "df['State'].value_counts()"
   ]
  },
  {
   "cell_type": "code",
   "execution_count": 40,
   "id": "1b72079a",
   "metadata": {},
   "outputs": [
    {
     "data": {
      "text/plain": [
       "7200.664877     6\n",
       "17497.522010    6\n",
       "2248.449633     6\n",
       "8092.876960     6\n",
       "6057.072080     6\n",
       "               ..\n",
       "9162.063169     1\n",
       "2374.147419     1\n",
       "6874.848270     1\n",
       "9934.865795     1\n",
       "2611.836866     1\n",
       "Name: Customer Lifetime Value, Length: 8041, dtype: int64"
      ]
     },
     "execution_count": 40,
     "metadata": {},
     "output_type": "execute_result"
    }
   ],
   "source": [
    "df['Customer Lifetime Value'].value_counts()"
   ]
  },
  {
   "cell_type": "code",
   "execution_count": 42,
   "id": "63e359db",
   "metadata": {},
   "outputs": [
    {
     "data": {
      "text/plain": [
       "No     7826\n",
       "Yes    1308\n",
       "Name: Response, dtype: int64"
      ]
     },
     "execution_count": 42,
     "metadata": {},
     "output_type": "execute_result"
    }
   ],
   "source": [
    "df['Response'].value_counts()"
   ]
  },
  {
   "cell_type": "code",
   "execution_count": 44,
   "id": "c564443d",
   "metadata": {},
   "outputs": [
    {
     "data": {
      "text/plain": [
       "Basic       5568\n",
       "Extended    2742\n",
       "Premium      824\n",
       "Name: Coverage, dtype: int64"
      ]
     },
     "execution_count": 44,
     "metadata": {},
     "output_type": "execute_result"
    }
   ],
   "source": [
    "df['Coverage'].value_counts()"
   ]
  },
  {
   "cell_type": "code",
   "execution_count": 45,
   "id": "7cb04993",
   "metadata": {},
   "outputs": [
    {
     "data": {
      "text/plain": [
       "Bachelor                2748\n",
       "College                 2681\n",
       "High School or Below    2622\n",
       "Master                   741\n",
       "Doctor                   342\n",
       "Name: Education, dtype: int64"
      ]
     },
     "execution_count": 45,
     "metadata": {},
     "output_type": "execute_result"
    }
   ],
   "source": [
    "df['Education'].value_counts()"
   ]
  },
  {
   "cell_type": "code",
   "execution_count": 46,
   "id": "5d373f67",
   "metadata": {},
   "outputs": [
    {
     "data": {
      "text/plain": [
       "2011-01-10    195\n",
       "2011-01-27    194\n",
       "2011-02-14    186\n",
       "2011-01-26    181\n",
       "2011-01-17    180\n",
       "2011-01-19    179\n",
       "2011-01-31    178\n",
       "2011-01-03    178\n",
       "2011-01-20    173\n",
       "2011-02-26    169\n",
       "2011-01-28    169\n",
       "2011-02-19    168\n",
       "2011-01-05    167\n",
       "2011-02-27    167\n",
       "2011-01-11    166\n",
       "2011-02-04    164\n",
       "2011-02-10    161\n",
       "2011-02-28    161\n",
       "2011-01-02    160\n",
       "2011-01-21    160\n",
       "2011-01-29    160\n",
       "2011-02-22    158\n",
       "2011-02-05    158\n",
       "2011-02-03    158\n",
       "2011-02-07    157\n",
       "2011-02-12    156\n",
       "2011-01-23    155\n",
       "2011-02-01    154\n",
       "2011-01-18    154\n",
       "2011-01-15    153\n",
       "2011-01-14    152\n",
       "2011-02-11    151\n",
       "2011-01-07    151\n",
       "2011-01-25    151\n",
       "2011-02-25    149\n",
       "2011-01-08    149\n",
       "2011-02-18    149\n",
       "2011-02-02    149\n",
       "2011-01-01    148\n",
       "2011-02-21    148\n",
       "2011-01-24    147\n",
       "2011-01-09    146\n",
       "2011-01-30    145\n",
       "2011-01-13    145\n",
       "2011-02-06    144\n",
       "2011-01-06    143\n",
       "2011-02-23    143\n",
       "2011-01-16    142\n",
       "2011-02-16    139\n",
       "2011-02-13    139\n",
       "2011-02-24    139\n",
       "2011-02-09    137\n",
       "2011-02-17    136\n",
       "2011-01-22    136\n",
       "2011-02-08    134\n",
       "2011-02-20    132\n",
       "2011-02-15    130\n",
       "2011-01-12    126\n",
       "2011-01-04    115\n",
       "Name: Effective To Date, dtype: int64"
      ]
     },
     "execution_count": 46,
     "metadata": {},
     "output_type": "execute_result"
    }
   ],
   "source": [
    "df['Effective To Date'].value_counts()"
   ]
  },
  {
   "cell_type": "code",
   "execution_count": 47,
   "id": "28b15cc8",
   "metadata": {},
   "outputs": [
    {
     "data": {
      "text/plain": [
       "Employed         5698\n",
       "Unemployed       2317\n",
       "Medical Leave     432\n",
       "Disabled          405\n",
       "Retired           282\n",
       "Name: EmploymentStatus, dtype: int64"
      ]
     },
     "execution_count": 47,
     "metadata": {},
     "output_type": "execute_result"
    }
   ],
   "source": [
    "df['EmploymentStatus'].value_counts()"
   ]
  },
  {
   "cell_type": "code",
   "execution_count": 48,
   "id": "485be08f",
   "metadata": {},
   "outputs": [
    {
     "data": {
      "text/plain": [
       "F    4658\n",
       "M    4476\n",
       "Name: Gender, dtype: int64"
      ]
     },
     "execution_count": 48,
     "metadata": {},
     "output_type": "execute_result"
    }
   ],
   "source": [
    "df['Gender'].value_counts()"
   ]
  },
  {
   "cell_type": "code",
   "execution_count": 49,
   "id": "3cd19e19",
   "metadata": {},
   "outputs": [
    {
     "data": {
      "text/plain": [
       "0        2317\n",
       "95697      12\n",
       "27972       7\n",
       "25370       7\n",
       "61108       7\n",
       "         ... \n",
       "36529       1\n",
       "25859       1\n",
       "38179       1\n",
       "70190       1\n",
       "21941       1\n",
       "Name: Income, Length: 5694, dtype: int64"
      ]
     },
     "execution_count": 49,
     "metadata": {},
     "output_type": "execute_result"
    }
   ],
   "source": [
    "df['Income'].value_counts()"
   ]
  },
  {
   "cell_type": "code",
   "execution_count": 50,
   "id": "0abdcb9e",
   "metadata": {},
   "outputs": [
    {
     "data": {
      "text/plain": [
       "Suburban    5779\n",
       "Rural       1773\n",
       "Urban       1582\n",
       "Name: Location Code, dtype: int64"
      ]
     },
     "execution_count": 50,
     "metadata": {},
     "output_type": "execute_result"
    }
   ],
   "source": [
    "df['Location Code'].value_counts()"
   ]
  },
  {
   "cell_type": "code",
   "execution_count": 70,
   "id": "c2a0cb81",
   "metadata": {},
   "outputs": [
    {
     "data": {
      "text/plain": [
       "Married     5298\n",
       "Single      2467\n",
       "Divorced    1369\n",
       "Name: Marital Status, dtype: int64"
      ]
     },
     "execution_count": 70,
     "metadata": {},
     "output_type": "execute_result"
    }
   ],
   "source": [
    "df['Marital Status'].value_counts()"
   ]
  },
  {
   "cell_type": "code",
   "execution_count": 71,
   "id": "3a3d4d3b",
   "metadata": {},
   "outputs": [
    {
     "data": {
      "text/plain": [
       "65     348\n",
       "66     307\n",
       "71     304\n",
       "73     302\n",
       "63     289\n",
       "      ... \n",
       "273      1\n",
       "287      1\n",
       "268      1\n",
       "232      1\n",
       "286      1\n",
       "Name: Monthly Premium Auto, Length: 202, dtype: int64"
      ]
     },
     "execution_count": 71,
     "metadata": {},
     "output_type": "execute_result"
    }
   ],
   "source": [
    "df['Monthly Premium Auto'].value_counts()"
   ]
  },
  {
   "cell_type": "code",
   "execution_count": 72,
   "id": "ed80ef10",
   "metadata": {},
   "outputs": [
    {
     "data": {
      "text/plain": [
       "3     381\n",
       "6     364\n",
       "1     345\n",
       "4     335\n",
       "7     333\n",
       "2     329\n",
       "0     314\n",
       "5     313\n",
       "10    306\n",
       "11    297\n",
       "16    295\n",
       "15    286\n",
       "13    285\n",
       "8     279\n",
       "12    273\n",
       "14    268\n",
       "17    263\n",
       "9     250\n",
       "19    246\n",
       "23    239\n",
       "25    236\n",
       "21    233\n",
       "20    231\n",
       "18    229\n",
       "22    218\n",
       "24    211\n",
       "29    206\n",
       "28    201\n",
       "31    190\n",
       "26    186\n",
       "30    182\n",
       "27    182\n",
       "33    179\n",
       "34    169\n",
       "35    142\n",
       "32    138\n",
       "Name: Months Since Last Claim, dtype: int64"
      ]
     },
     "execution_count": 72,
     "metadata": {},
     "output_type": "execute_result"
    }
   ],
   "source": [
    "df['Months Since Last Claim'].value_counts()"
   ]
  },
  {
   "cell_type": "code",
   "execution_count": 73,
   "id": "82c6ac1d",
   "metadata": {},
   "outputs": [
    {
     "data": {
      "text/plain": [
       "59    142\n",
       "61    128\n",
       "50    125\n",
       "44    115\n",
       "3     114\n",
       "     ... \n",
       "16     70\n",
       "96     67\n",
       "82     56\n",
       "98     54\n",
       "97     52\n",
       "Name: Months Since Policy Inception, Length: 100, dtype: int64"
      ]
     },
     "execution_count": 73,
     "metadata": {},
     "output_type": "execute_result"
    }
   ],
   "source": [
    "df['Months Since Policy Inception'].value_counts()"
   ]
  },
  {
   "cell_type": "code",
   "execution_count": 75,
   "id": "327ac361",
   "metadata": {},
   "outputs": [
    {
     "data": {
      "text/plain": [
       "0    7252\n",
       "1    1011\n",
       "2     374\n",
       "3     292\n",
       "4     149\n",
       "5      56\n",
       "Name: Number of Open Complaints, dtype: int64"
      ]
     },
     "execution_count": 75,
     "metadata": {},
     "output_type": "execute_result"
    }
   ],
   "source": [
    "df['Number of Open Complaints'].value_counts()"
   ]
  },
  {
   "cell_type": "code",
   "execution_count": 76,
   "id": "30debdbb",
   "metadata": {},
   "outputs": [
    {
     "data": {
      "text/plain": [
       "1    3251\n",
       "2    2294\n",
       "3    1168\n",
       "7     433\n",
       "9     416\n",
       "4     409\n",
       "5     407\n",
       "8     384\n",
       "6     372\n",
       "Name: Number of Policies, dtype: int64"
      ]
     },
     "execution_count": 76,
     "metadata": {},
     "output_type": "execute_result"
    }
   ],
   "source": [
    "df['Number of Policies'].value_counts()"
   ]
  },
  {
   "cell_type": "code",
   "execution_count": 77,
   "id": "ea02a83d",
   "metadata": {},
   "outputs": [
    {
     "data": {
      "text/plain": [
       "Personal Auto     6788\n",
       "Corporate Auto    1968\n",
       "Special Auto       378\n",
       "Name: Policy Type, dtype: int64"
      ]
     },
     "execution_count": 77,
     "metadata": {},
     "output_type": "execute_result"
    }
   ],
   "source": [
    "df['Policy Type'].value_counts()"
   ]
  },
  {
   "cell_type": "code",
   "execution_count": 78,
   "id": "b3933a91",
   "metadata": {},
   "outputs": [
    {
     "data": {
      "text/plain": [
       "Personal L3     3426\n",
       "Personal L2     2122\n",
       "Personal L1     1240\n",
       "Corporate L3    1014\n",
       "Corporate L2     595\n",
       "Corporate L1     359\n",
       "Special L2       164\n",
       "Special L3       148\n",
       "Special L1        66\n",
       "Name: Policy, dtype: int64"
      ]
     },
     "execution_count": 78,
     "metadata": {},
     "output_type": "execute_result"
    }
   ],
   "source": [
    "df['Policy'].value_counts()"
   ]
  },
  {
   "cell_type": "code",
   "execution_count": 79,
   "id": "49be5db2",
   "metadata": {},
   "outputs": [
    {
     "data": {
      "text/plain": [
       "Offer1    3752\n",
       "Offer2    2926\n",
       "Offer3    1432\n",
       "Offer4    1024\n",
       "Name: Renew Offer Type, dtype: int64"
      ]
     },
     "execution_count": 79,
     "metadata": {},
     "output_type": "execute_result"
    }
   ],
   "source": [
    "df['Renew Offer Type'].value_counts()"
   ]
  },
  {
   "cell_type": "code",
   "execution_count": 80,
   "id": "157f1fbe",
   "metadata": {},
   "outputs": [
    {
     "data": {
      "text/plain": [
       "Agent          3477\n",
       "Branch         2567\n",
       "Call Center    1765\n",
       "Web            1325\n",
       "Name: Sales Channel, dtype: int64"
      ]
     },
     "execution_count": 80,
     "metadata": {},
     "output_type": "execute_result"
    }
   ],
   "source": [
    "df['Sales Channel'].value_counts()"
   ]
  },
  {
   "cell_type": "code",
   "execution_count": 81,
   "id": "55020b14",
   "metadata": {},
   "outputs": [
    {
     "data": {
      "text/plain": [
       "316.800000    116\n",
       "292.800000    110\n",
       "312.000000    108\n",
       "350.400000    105\n",
       "331.200000    102\n",
       "             ... \n",
       "377.442796      1\n",
       "20.985105       1\n",
       "280.897050      1\n",
       "268.130863      1\n",
       "790.784983      1\n",
       "Name: Total Claim Amount, Length: 5106, dtype: int64"
      ]
     },
     "execution_count": 81,
     "metadata": {},
     "output_type": "execute_result"
    }
   ],
   "source": [
    "df['Total Claim Amount'].value_counts()"
   ]
  },
  {
   "cell_type": "code",
   "execution_count": 83,
   "id": "a9ca8ab0",
   "metadata": {},
   "outputs": [
    {
     "data": {
      "text/plain": [
       "Four-Door Car    4621\n",
       "Two-Door Car     1886\n",
       "SUV              1796\n",
       "Sports Car        484\n",
       "Luxury SUV        184\n",
       "Luxury Car        163\n",
       "Name: Vehicle Class, dtype: int64"
      ]
     },
     "execution_count": 83,
     "metadata": {},
     "output_type": "execute_result"
    }
   ],
   "source": [
    "df['Vehicle Class'].value_counts()"
   ]
  },
  {
   "cell_type": "code",
   "execution_count": 85,
   "id": "fc1b26f9",
   "metadata": {},
   "outputs": [
    {
     "data": {
      "text/plain": [
       "Medsize    6424\n",
       "Small      1764\n",
       "Large       946\n",
       "Name: Vehicle Size, dtype: int64"
      ]
     },
     "execution_count": 85,
     "metadata": {},
     "output_type": "execute_result"
    }
   ],
   "source": [
    "df['Vehicle Size'].value_counts()"
   ]
  },
  {
   "cell_type": "code",
   "execution_count": 87,
   "id": "d166e50f",
   "metadata": {},
   "outputs": [
    {
     "data": {
      "text/html": [
       "<div>\n",
       "<style scoped>\n",
       "    .dataframe tbody tr th:only-of-type {\n",
       "        vertical-align: middle;\n",
       "    }\n",
       "\n",
       "    .dataframe tbody tr th {\n",
       "        vertical-align: top;\n",
       "    }\n",
       "\n",
       "    .dataframe thead th {\n",
       "        text-align: right;\n",
       "    }\n",
       "</style>\n",
       "<table border=\"1\" class=\"dataframe\">\n",
       "  <thead>\n",
       "    <tr style=\"text-align: right;\">\n",
       "      <th></th>\n",
       "      <th>count</th>\n",
       "      <th>mean</th>\n",
       "      <th>std</th>\n",
       "      <th>min</th>\n",
       "      <th>25%</th>\n",
       "      <th>50%</th>\n",
       "      <th>75%</th>\n",
       "      <th>max</th>\n",
       "    </tr>\n",
       "  </thead>\n",
       "  <tbody>\n",
       "    <tr>\n",
       "      <th>Customer Lifetime Value</th>\n",
       "      <td>9134.0</td>\n",
       "      <td>8004.940475</td>\n",
       "      <td>6870.967608</td>\n",
       "      <td>1898.007675</td>\n",
       "      <td>3994.251794</td>\n",
       "      <td>5780.182197</td>\n",
       "      <td>8962.167041</td>\n",
       "      <td>83325.381190</td>\n",
       "    </tr>\n",
       "    <tr>\n",
       "      <th>Income</th>\n",
       "      <td>9134.0</td>\n",
       "      <td>37657.380009</td>\n",
       "      <td>30379.904734</td>\n",
       "      <td>0.000000</td>\n",
       "      <td>0.000000</td>\n",
       "      <td>33889.500000</td>\n",
       "      <td>62320.000000</td>\n",
       "      <td>99981.000000</td>\n",
       "    </tr>\n",
       "    <tr>\n",
       "      <th>Monthly Premium Auto</th>\n",
       "      <td>9134.0</td>\n",
       "      <td>93.219291</td>\n",
       "      <td>34.407967</td>\n",
       "      <td>61.000000</td>\n",
       "      <td>68.000000</td>\n",
       "      <td>83.000000</td>\n",
       "      <td>109.000000</td>\n",
       "      <td>298.000000</td>\n",
       "    </tr>\n",
       "    <tr>\n",
       "      <th>Months Since Last Claim</th>\n",
       "      <td>9134.0</td>\n",
       "      <td>15.097000</td>\n",
       "      <td>10.073257</td>\n",
       "      <td>0.000000</td>\n",
       "      <td>6.000000</td>\n",
       "      <td>14.000000</td>\n",
       "      <td>23.000000</td>\n",
       "      <td>35.000000</td>\n",
       "    </tr>\n",
       "    <tr>\n",
       "      <th>Months Since Policy Inception</th>\n",
       "      <td>9134.0</td>\n",
       "      <td>48.064594</td>\n",
       "      <td>27.905991</td>\n",
       "      <td>0.000000</td>\n",
       "      <td>24.000000</td>\n",
       "      <td>48.000000</td>\n",
       "      <td>71.000000</td>\n",
       "      <td>99.000000</td>\n",
       "    </tr>\n",
       "    <tr>\n",
       "      <th>Number of Open Complaints</th>\n",
       "      <td>9134.0</td>\n",
       "      <td>0.384388</td>\n",
       "      <td>0.910384</td>\n",
       "      <td>0.000000</td>\n",
       "      <td>0.000000</td>\n",
       "      <td>0.000000</td>\n",
       "      <td>0.000000</td>\n",
       "      <td>5.000000</td>\n",
       "    </tr>\n",
       "    <tr>\n",
       "      <th>Number of Policies</th>\n",
       "      <td>9134.0</td>\n",
       "      <td>2.966170</td>\n",
       "      <td>2.390182</td>\n",
       "      <td>1.000000</td>\n",
       "      <td>1.000000</td>\n",
       "      <td>2.000000</td>\n",
       "      <td>4.000000</td>\n",
       "      <td>9.000000</td>\n",
       "    </tr>\n",
       "    <tr>\n",
       "      <th>Total Claim Amount</th>\n",
       "      <td>9134.0</td>\n",
       "      <td>434.088794</td>\n",
       "      <td>290.500092</td>\n",
       "      <td>0.099007</td>\n",
       "      <td>272.258244</td>\n",
       "      <td>383.945434</td>\n",
       "      <td>547.514839</td>\n",
       "      <td>2893.239678</td>\n",
       "    </tr>\n",
       "  </tbody>\n",
       "</table>\n",
       "</div>"
      ],
      "text/plain": [
       "                                count          mean           std  \\\n",
       "Customer Lifetime Value        9134.0   8004.940475   6870.967608   \n",
       "Income                         9134.0  37657.380009  30379.904734   \n",
       "Monthly Premium Auto           9134.0     93.219291     34.407967   \n",
       "Months Since Last Claim        9134.0     15.097000     10.073257   \n",
       "Months Since Policy Inception  9134.0     48.064594     27.905991   \n",
       "Number of Open Complaints      9134.0      0.384388      0.910384   \n",
       "Number of Policies             9134.0      2.966170      2.390182   \n",
       "Total Claim Amount             9134.0    434.088794    290.500092   \n",
       "\n",
       "                                       min          25%           50%  \\\n",
       "Customer Lifetime Value        1898.007675  3994.251794   5780.182197   \n",
       "Income                            0.000000     0.000000  33889.500000   \n",
       "Monthly Premium Auto             61.000000    68.000000     83.000000   \n",
       "Months Since Last Claim           0.000000     6.000000     14.000000   \n",
       "Months Since Policy Inception     0.000000    24.000000     48.000000   \n",
       "Number of Open Complaints         0.000000     0.000000      0.000000   \n",
       "Number of Policies                1.000000     1.000000      2.000000   \n",
       "Total Claim Amount                0.099007   272.258244    383.945434   \n",
       "\n",
       "                                        75%           max  \n",
       "Customer Lifetime Value         8962.167041  83325.381190  \n",
       "Income                         62320.000000  99981.000000  \n",
       "Monthly Premium Auto             109.000000    298.000000  \n",
       "Months Since Last Claim           23.000000     35.000000  \n",
       "Months Since Policy Inception     71.000000     99.000000  \n",
       "Number of Open Complaints          0.000000      5.000000  \n",
       "Number of Policies                 4.000000      9.000000  \n",
       "Total Claim Amount               547.514839   2893.239678  "
      ]
     },
     "execution_count": 87,
     "metadata": {},
     "output_type": "execute_result"
    }
   ],
   "source": [
    "df.describe().T"
   ]
  },
  {
   "cell_type": "code",
   "execution_count": 89,
   "id": "9b29ab90",
   "metadata": {},
   "outputs": [],
   "source": [
    "df_cat=df.select_dtypes(include=['object'])\n",
    "df_num=df.select_dtypes(include=['number'])"
   ]
  },
  {
   "cell_type": "code",
   "execution_count": 90,
   "id": "c584de74",
   "metadata": {},
   "outputs": [
    {
     "name": "stdout",
     "output_type": "stream",
     "text": [
      "BU79786    1\n",
      "PU81096    1\n",
      "CO75086    1\n",
      "WW52683    1\n",
      "XO38850    1\n",
      "          ..\n",
      "HS14476    1\n",
      "YL91587    1\n",
      "CT18212    1\n",
      "EW35231    1\n",
      "Y167826    1\n",
      "Name: Customer, Length: 9134, dtype: int64\n",
      "\n",
      "..........\n",
      "California    3150\n",
      "Oregon        2601\n",
      "Arizona       1703\n",
      "Nevada         882\n",
      "Washington     798\n",
      "Name: State, dtype: int64\n",
      "\n",
      "..........\n",
      "No     7826\n",
      "Yes    1308\n",
      "Name: Response, dtype: int64\n",
      "\n",
      "..........\n",
      "Basic       5568\n",
      "Extended    2742\n",
      "Premium      824\n",
      "Name: Coverage, dtype: int64\n",
      "\n",
      "..........\n",
      "Bachelor                2748\n",
      "College                 2681\n",
      "High School or Below    2622\n",
      "Master                   741\n",
      "Doctor                   342\n",
      "Name: Education, dtype: int64\n",
      "\n",
      "..........\n",
      "Employed         5698\n",
      "Unemployed       2317\n",
      "Medical Leave     432\n",
      "Disabled          405\n",
      "Retired           282\n",
      "Name: EmploymentStatus, dtype: int64\n",
      "\n",
      "..........\n",
      "F    4658\n",
      "M    4476\n",
      "Name: Gender, dtype: int64\n",
      "\n",
      "..........\n",
      "Suburban    5779\n",
      "Rural       1773\n",
      "Urban       1582\n",
      "Name: Location Code, dtype: int64\n",
      "\n",
      "..........\n",
      "Married     5298\n",
      "Single      2467\n",
      "Divorced    1369\n",
      "Name: Marital Status, dtype: int64\n",
      "\n",
      "..........\n",
      "Personal Auto     6788\n",
      "Corporate Auto    1968\n",
      "Special Auto       378\n",
      "Name: Policy Type, dtype: int64\n",
      "\n",
      "..........\n",
      "Personal L3     3426\n",
      "Personal L2     2122\n",
      "Personal L1     1240\n",
      "Corporate L3    1014\n",
      "Corporate L2     595\n",
      "Corporate L1     359\n",
      "Special L2       164\n",
      "Special L3       148\n",
      "Special L1        66\n",
      "Name: Policy, dtype: int64\n",
      "\n",
      "..........\n",
      "Offer1    3752\n",
      "Offer2    2926\n",
      "Offer3    1432\n",
      "Offer4    1024\n",
      "Name: Renew Offer Type, dtype: int64\n",
      "\n",
      "..........\n",
      "Agent          3477\n",
      "Branch         2567\n",
      "Call Center    1765\n",
      "Web            1325\n",
      "Name: Sales Channel, dtype: int64\n",
      "\n",
      "..........\n",
      "Four-Door Car    4621\n",
      "Two-Door Car     1886\n",
      "SUV              1796\n",
      "Sports Car        484\n",
      "Luxury SUV        184\n",
      "Luxury Car        163\n",
      "Name: Vehicle Class, dtype: int64\n",
      "\n",
      "..........\n",
      "Medsize    6424\n",
      "Small      1764\n",
      "Large       946\n",
      "Name: Vehicle Size, dtype: int64\n",
      "\n",
      "..........\n"
     ]
    }
   ],
   "source": [
    "for cat_col in df_cat.columns:\n",
    "    print(df[cat_col].value_counts())\n",
    "    print(\"\\n..........\")"
   ]
  },
  {
   "cell_type": "code",
   "execution_count": 91,
   "id": "925d0da2",
   "metadata": {},
   "outputs": [
    {
     "data": {
      "text/plain": [
       "Text(0, 0.5, 'counts')"
      ]
     },
     "execution_count": 91,
     "metadata": {},
     "output_type": "execute_result"
    },
    {
     "data": {
      "image/png": "[encoded data removed]",
      "text/plain": [
       "<Figure size 720x288 with 1 Axes>"
      ]
     },
     "metadata": {
      "needs_background": "light"
     },
     "output_type": "display_data"
    }
   ],
   "source": [
    "figure=plt.figure(figsize=(10,4))\n",
    "ax=sns.countplot(x='State',data=df_cat)\n",
    "plt.title('Distribution of Auto-Insurance by state')\n",
    "plt.xlabel('States')\n",
    "plt.ylabel('counts')"
   ]
  },
  {
   "cell_type": "code",
   "execution_count": 92,
   "id": "17b6fd21",
   "metadata": {},
   "outputs": [
    {
     "data": {
      "text/plain": [
       "Text(0, 0.5, 'counts')"
      ]
     },
     "execution_count": 92,
     "metadata": {},
     "output_type": "execute_result"
    },
    {
     "data": {
      "image/png": "[encoded data removed]",
      "text/plain": [
       "<Figure size 720x288 with 1 Axes>"
      ]
     },
     "metadata": {
      "needs_background": "light"
     },
     "output_type": "display_data"
    }
   ],
   "source": [
    "figure=plt.figure(figsize=(10,4))\n",
    "ax=sns.countplot(x='Coverage',data=df_cat)\n",
    "plt.title('Distribution of Auto-Insurance coverage')\n",
    "plt.xlabel('coverage')\n",
    "plt.ylabel('counts')"
   ]
  },
  {
   "cell_type": "code",
   "execution_count": 93,
   "id": "8df09c6b",
   "metadata": {},
   "outputs": [
    {
     "data": {
      "text/plain": [
       "Text(0, 0.5, 'counts')"
      ]
     },
     "execution_count": 93,
     "metadata": {},
     "output_type": "execute_result"
    },
    {
     "data": {
      "image/png": "[encoded data removed]",
      "text/plain": [
       "<Figure size 720x288 with 1 Axes>"
      ]
     },
     "metadata": {
      "needs_background": "light"
     },
     "output_type": "display_data"
    }
   ],
   "source": [
    "figure=plt.figure(figsize=(10,4))\n",
    "ax=sns.countplot(x='Education',data=df_cat)\n",
    "plt.title('Distribution of Auto-Insurance by Education')\n",
    "plt.xlabel('Education')\n",
    "plt.ylabel('counts')"
   ]
  },
  {
   "cell_type": "code",
   "execution_count": 94,
   "id": "e4e71da0",
   "metadata": {},
   "outputs": [
    {
     "data": {
      "text/plain": [
       "Text(0, 0.5, 'counts')"
      ]
     },
     "execution_count": 94,
     "metadata": {},
     "output_type": "execute_result"
    },
    {
     "data": {
      "image/png": "[encoded data removed]",
      "text/plain": [
       "<Figure size 720x288 with 1 Axes>"
      ]
     },
     "metadata": {
      "needs_background": "light"
     },
     "output_type": "display_data"
    }
   ],
   "source": [
    "figure=plt.figure(figsize=(10,4))\n",
    "ax=sns.countplot(x='EmploymentStatus',data=df_cat)\n",
    "plt.title('Distribution of Auto-Insurance by Employment status')\n",
    "plt.xlabel('Employment status')\n",
    "plt.ylabel('counts')"
   ]
  },
  {
   "cell_type": "code",
   "execution_count": 95,
   "id": "f2788a67",
   "metadata": {},
   "outputs": [
    {
     "data": {
      "text/plain": [
       "Text(0, 0.5, 'counts')"
      ]
     },
     "execution_count": 95,
     "metadata": {},
     "output_type": "execute_result"
    },
    {
     "data": {
      "image/png": "[encoded data removed]",
      "text/plain": [
       "<Figure size 720x288 with 1 Axes>"
      ]
     },
     "metadata": {
      "needs_background": "light"
     },
     "output_type": "display_data"
    }
   ],
   "source": [
    "figure=plt.figure(figsize=(10,4))\n",
    "ax=sns.countplot(x='Location Code',data=df_cat)\n",
    "plt.title('Distribution of Auto-Insurance by location code')\n",
    "plt.xlabel('Location Code')\n",
    "plt.ylabel('counts')"
   ]
  },
  {
   "cell_type": "code",
   "execution_count": 96,
   "id": "07996655",
   "metadata": {},
   "outputs": [
    {
     "data": {
      "text/plain": [
       "Text(0, 0.5, 'counts')"
      ]
     },
     "execution_count": 96,
     "metadata": {},
     "output_type": "execute_result"
    },
    {
     "data": {
      "image/png": "[encoded data removed]",
      "text/plain": [
       "<Figure size 720x288 with 1 Axes>"
      ]
     },
     "metadata": {
      "needs_background": "light"
     },
     "output_type": "display_data"
    }
   ],
   "source": [
    "figure=plt.figure(figsize=(10,4))\n",
    "ax=sns.countplot(x='Marital Status',data=df_cat)\n",
    "plt.title('Distribution of Auto-Insurance by Marital Status')\n",
    "plt.xlabel('Marital Status')\n",
    "plt.ylabel('counts')"
   ]
  },
  {
   "cell_type": "code",
   "execution_count": 97,
   "id": "54c1f704",
   "metadata": {},
   "outputs": [
    {
     "data": {
      "text/plain": [
       "Text(0, 0.5, 'counts')"
      ]
     },
     "execution_count": 97,
     "metadata": {},
     "output_type": "execute_result"
    },
    {
     "data": {
      "image/png": "[encoded data removed]",
      "text/plain": [
       "<Figure size 720x288 with 1 Axes>"
      ]
     },
     "metadata": {
      "needs_background": "light"
     },
     "output_type": "display_data"
    }
   ],
   "source": [
    "figure=plt.figure(figsize=(10,4))\n",
    "ax=sns.countplot(x='Policy Type',data=df_cat)\n",
    "plt.title('Distribution of Auto-Insurance by Policy Type')\n",
    "plt.xlabel('Policy Type')\n",
    "plt.ylabel('counts')"
   ]
  },
  {
   "cell_type": "code",
   "execution_count": 98,
   "id": "99abb465",
   "metadata": {},
   "outputs": [
    {
     "data": {
      "text/plain": [
       "Text(0, 0.5, 'counts')"
      ]
     },
     "execution_count": 98,
     "metadata": {},
     "output_type": "execute_result"
    },
    {
     "data": {
      "image/png": "[encoded data removed]",
      "text/plain": [
       "<Figure size 720x288 with 1 Axes>"
      ]
     },
     "metadata": {
      "needs_background": "light"
     },
     "output_type": "display_data"
    }
   ],
   "source": [
    "figure=plt.figure(figsize=(10,4))\n",
    "ax=sns.countplot(x='Policy',data=df_cat)\n",
    "plt.title('Distribution of Auto-Insurance by Policy')\n",
    "plt.xlabel('Policy')\n",
    "plt.ylabel('counts')"
   ]
  },
  {
   "cell_type": "code",
   "execution_count": 99,
   "id": "e62e68c2",
   "metadata": {},
   "outputs": [
    {
     "data": {
      "text/plain": [
       "Text(0, 0.5, 'counts')"
      ]
     },
     "execution_count": 99,
     "metadata": {},
     "output_type": "execute_result"
    },
    {
     "data": {
      "image/png": "[encoded data removed]",
      "text/plain": [
       "<Figure size 720x288 with 1 Axes>"
      ]
     },
     "metadata": {
      "needs_background": "light"
     },
     "output_type": "display_data"
    }
   ],
   "source": [
    "figure=plt.figure(figsize=(10,4))\n",
    "ax=sns.countplot(x='Renew Offer Type',data=df_cat)\n",
    "plt.title('Distribution of Auto-Insurance by Renew offer type')\n",
    "plt.xlabel('Renew Offer Type')\n",
    "plt.ylabel('counts')"
   ]
  },
  {
   "cell_type": "code",
   "execution_count": 100,
   "id": "51b95a55",
   "metadata": {},
   "outputs": [
    {
     "data": {
      "text/plain": [
       "Text(0, 0.5, 'counts')"
      ]
     },
     "execution_count": 100,
     "metadata": {},
     "output_type": "execute_result"
    },
    {
     "data": {
      "image/png": "[encoded data removed]",
      "text/plain": [
       "<Figure size 720x288 with 1 Axes>"
      ]
     },
     "metadata": {
      "needs_background": "light"
     },
     "output_type": "display_data"
    }
   ],
   "source": [
    "figure=plt.figure(figsize=(10,4))\n",
    "ax=sns.countplot(x='Sales Channel',data=df_cat)\n",
    "plt.title('Distribution of Auto-Insurance by Sales channel')\n",
    "plt.xlabel('Sales Channel')\n",
    "plt.ylabel('counts')"
   ]
  },
  {
   "cell_type": "code",
   "execution_count": 101,
   "id": "09217568",
   "metadata": {},
   "outputs": [
    {
     "data": {
      "text/plain": [
       "Text(0, 0.5, 'counts')"
      ]
     },
     "execution_count": 101,
     "metadata": {},
     "output_type": "execute_result"
    },
    {
     "data": {
      "image/png": "[encoded data removed]",
      "text/plain": [
       "<Figure size 720x288 with 1 Axes>"
      ]
     },
     "metadata": {
      "needs_background": "light"
     },
     "output_type": "display_data"
    }
   ],
   "source": [
    "figure=plt.figure(figsize=(10,4))\n",
    "ax=sns.countplot(x='Vehicle Size',data=df_cat)\n",
    "plt.title('Distribution of Auto-Insurance by Vehicle size')\n",
    "plt.xlabel('Vehicle Size')\n",
    "plt.ylabel('counts')"
   ]
  },
  {
   "cell_type": "code",
   "execution_count": null,
   "id": "148d8c7d",
   "metadata": {},
   "outputs": [],
   "source": []
  }
 ],
 "metadata": {
  "kernelspec": {
   "display_name": "Python 3 (ipykernel)",
   "language": "python",
   "name": "python3"
  },
  "language_info": {
   "codemirror_mode": {
    "name": "ipython",
    "version": 3
   },
   "file_extension": ".py",
   "mimetype": "text/x-python",
   "name": "python",
   "nbconvert_exporter": "python",
   "pygments_lexer": "ipython3",
   "version": "3.9.7"
  }
 },
 "nbformat": 4,
 "nbformat_minor": 5
}
